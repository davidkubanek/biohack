{
 "cells": [
  {
   "cell_type": "markdown",
   "metadata": {},
   "source": [
    "# Models"
   ]
  },
  {
   "cell_type": "markdown",
   "metadata": {},
   "source": [
    "### Load Data"
   ]
  },
  {
   "cell_type": "code",
   "execution_count": 2,
   "metadata": {},
   "outputs": [],
   "source": [
    "import pickle\n",
    "\n",
    "# Specify the path where you saved the dictionary\n",
    "directory = '../Data/biohack/'\n",
    "load_path = directory + 'datalist_fungal_test.pkl'\n",
    "\n",
    "# Load the dictionary using pickle\n",
    "with open(load_path, 'rb') as f:\n",
    "    data_list = pickle.load(f)"
   ]
  },
  {
   "cell_type": "code",
   "execution_count": null,
   "metadata": {},
   "outputs": [],
   "source": [
    "# import smiles from csv\n",
    "\n",
    "import pandas as pd\n",
    "\n",
    "df = pd.read_csv(directory + 'fungal_test.csv')\n",
    "smiles = df['SMILES']"
   ]
  },
  {
   "cell_type": "markdown",
   "metadata": {},
   "source": [
    "## GCN"
   ]
  },
  {
   "cell_type": "code",
   "execution_count": 10,
   "metadata": {},
   "outputs": [],
   "source": [
    "import torch\n",
    "import torch.nn as nn\n",
    "from torch.nn import Linear\n",
    "import torch.nn.functional as F\n",
    "from torch_geometric.nn import GCNConv\n",
    "from torch_geometric.nn import global_mean_pool\n",
    "\n",
    "'''\n",
    "GCN_base and GCN_base_FP\n",
    "- GCN_base: graph embedding followed by a final classification layer\n",
    "- GCN_base_FP: graph + fingerprints embedding followed by a final classification layer\n",
    "'''\n",
    "\n",
    "\n",
    "class GCN(nn.Module):\n",
    "    '''\n",
    "    Define a Graph Convolutional Network (GCN) model architecture.\n",
    "    Can include 'graph' only or 'graph + fingerprints' embedding before final classification layer.\n",
    "    '''\n",
    "\n",
    "    def __init__(self, args):\n",
    "        super(GCN, self).__init__()\n",
    "        torch.manual_seed(12345)\n",
    "\n",
    "        num_node_features = args['num_node_features']\n",
    "        hidden_channels = args['hidden_channels']\n",
    "        num_classes = 1\n",
    "        self.dropout = args['dropout']\n",
    "\n",
    "        if args['model'] == 'GCN_base_FP':\n",
    "            fp_dim = args['fp_dim']\n",
    "        else:  # aka only GCN\n",
    "            fp_dim = 0\n",
    "\n",
    "        self.conv1 = GCNConv(num_node_features, hidden_channels)\n",
    "        self.conv2 = GCNConv(hidden_channels, hidden_channels)\n",
    "        self.conv3 = GCNConv(hidden_channels, hidden_channels)\n",
    "\n",
    "        self.lin = Linear(hidden_channels + fp_dim, num_classes)\n",
    "\n",
    "    def forward(self, x, edge_index, batch, fp=None):\n",
    "        # 1. Obtain node embeddings\n",
    "        x = self.conv1(x, edge_index)\n",
    "        x = x.relu()\n",
    "        x = self.conv2(x, edge_index)\n",
    "        x = x.relu()\n",
    "        x = self.conv3(x, edge_index)\n",
    "\n",
    "        # 2. Readout layer\n",
    "        x = global_mean_pool(x, batch)  # [batch_size, hidden_channels]\n",
    "\n",
    "        # if also using fingerprints\n",
    "        if fp is not None:\n",
    "            # reshape fp to batch_size x fp_dim\n",
    "            fp = fp.reshape(x.shape[0], -1)\n",
    "            # concatenate graph node embeddings with fingerprint\n",
    "            # print('BEFORE CONCAT x:',x.shape, 'fp:', fp.shape)\n",
    "            x = torch.cat([x, fp], dim=1)\n",
    "            # print('AFTER CONCAT x:',x.shape)\n",
    "\n",
    "        # 3. Apply a final classifier\n",
    "        x = F.dropout(x, p=self.dropout, training=self.training)\n",
    "        x = self.lin(x)\n",
    "\n",
    "        return x\n",
    "\n"
   ]
  },
  {
   "cell_type": "code",
   "execution_count": 16,
   "metadata": {},
   "outputs": [
    {
     "data": {
      "text/plain": [
       "tensor([[-0.1081]], grad_fn=<AddmmBackward0>)"
      ]
     },
     "execution_count": 16,
     "metadata": {},
     "output_type": "execute_result"
    }
   ],
   "source": [
    "# run forward pass\n",
    "\n",
    "model = GCN(args)\n",
    "\n",
    "data = data_list[2]\n",
    "out = model(data.x, data.edge_index, data.batch)\n",
    "out"
   ]
  }
 ],
 "metadata": {
  "kernelspec": {
   "display_name": "DTMS",
   "language": "python",
   "name": "python3"
  },
  "language_info": {
   "codemirror_mode": {
    "name": "ipython",
    "version": 3
   },
   "file_extension": ".py",
   "mimetype": "text/x-python",
   "name": "python",
   "nbconvert_exporter": "python",
   "pygments_lexer": "ipython3",
   "version": "3.8.18"
  }
 },
 "nbformat": 4,
 "nbformat_minor": 2
}

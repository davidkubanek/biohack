{
 "cells": [
  {
   "cell_type": "markdown",
   "metadata": {},
   "source": [
    "# Assembles results from different runs"
   ]
  },
  {
   "cell_type": "markdown",
   "metadata": {},
   "source": [
    "# F1 and AUROC scores"
   ]
  },
  {
   "cell_type": "markdown",
   "metadata": {},
   "source": [
    "### Naive\n",
    "- just emb. + cosine distance binned"
   ]
  },
  {
   "cell_type": "code",
   "execution_count": null,
   "metadata": {},
   "outputs": [],
   "source": [
    "### Morgan/ECFP, cosine\n",
    "\n",
    "# just emb. + cosine distance binned\n",
    "F1_naive = {}\n",
    "F1_naive['ECFP'] = 0.387\n",
    "F1_naive['Molformer'] = 0.20945746065554374 # bad separation\n",
    "\n",
    "\n"
   ]
  },
  {
   "cell_type": "markdown",
   "metadata": {},
   "source": [
    "### Siamese net"
   ]
  },
  {
   "cell_type": "code",
   "execution_count": 8,
   "metadata": {},
   "outputs": [],
   "source": [
    "F1 = {}\n",
    "F1['ECFP naive'] = 0.387\n",
    "F1['Molformer naive'] = 0.20945746065554374 # bad separation\n",
    "F1['ECFP'] = 0.5022442977173213\n",
    "F1['FP'] = 0.4975549028158797\n",
    "F1['Molformer'] = 0.49734396400704334\n",
    "F1['GROVER'] = 0.4794285790857997\n",
    "F1['GCN'] = 0.2028603212947138\n",
    "F1['GCN+FP'] = 0.47611423499886457\n",
    "\n",
    "AUROC = {}\n",
    "AUROC['ECFP'] = 0.5409480889008219\n",
    "AUROC['FP'] = 0.5544157850287503\n",
    "AUROC['Molformer'] = 0.582638661410021\n",
    "AUROC['GROVER'] = 0.5414560301130296\n",
    "AUROC['GCN'] = 0.4141858059471941\n",
    "AUROC['GCN+FP'] = 0.562202497727138"
   ]
  },
  {
   "cell_type": "markdown",
   "metadata": {},
   "source": [
    "### With removed duplicates siamese net"
   ]
  },
  {
   "cell_type": "code",
   "execution_count": null,
   "metadata": {},
   "outputs": [],
   "source": [
    "F1 = {}\n",
    "F1['Molformer'] = 0.403\n",
    "F1['GCN'] = 0.1336\n",
    "F1['GCN+FP'] = 0.3317\n",
    "\n",
    "\n",
    "AUROC = {}\n",
    "AUROC['Molformer'] = 0.4\n",
    "AUROC['GCN'] = 0.45\n",
    "AUROC['GCN+FP'] = 0.4"
   ]
  },
  {
   "cell_type": "markdown",
   "metadata": {},
   "source": [
    "### Siamese regression"
   ]
  },
  {
   "cell_type": "code",
   "execution_count": null,
   "metadata": {},
   "outputs": [],
   "source": [
    "# regression\n",
    "\n",
    "F1= 0.030335438087929698 # did horribly"
   ]
  },
  {
   "cell_type": "markdown",
   "metadata": {},
   "source": [
    "### good enough for prioritization\n",
    "- used best performing model from similairty task: ECFP siamese net"
   ]
  },
  {
   "cell_type": "code",
   "execution_count": null,
   "metadata": {},
   "outputs": [],
   "source": [
    "F1: 0.5346358334382287\n",
    "AUROC: 0.603932309119918"
   ]
  }
 ],
 "metadata": {
  "kernelspec": {
   "display_name": "DTMS",
   "language": "python",
   "name": "python3"
  },
  "language_info": {
   "codemirror_mode": {
    "name": "ipython",
    "version": 3
   },
   "file_extension": ".py",
   "mimetype": "text/x-python",
   "name": "python",
   "nbconvert_exporter": "python",
   "pygments_lexer": "ipython3",
   "version": "3.8.18"
  }
 },
 "nbformat": 4,
 "nbformat_minor": 2
}

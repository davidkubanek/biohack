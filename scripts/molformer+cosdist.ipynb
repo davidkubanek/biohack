{
 "cells": [
  {
   "cell_type": "code",
   "execution_count": 1,
   "metadata": {},
   "outputs": [],
   "source": [
    "# read parquet file\n",
    "import pandas as pd\n",
    "import pyarrow.parquet as pq\n",
    "from rdkit import Chem\n",
    "from rdkit.Chem import AllChem\n",
    "from rdkit.Chem.AtomPairs.Utils import CosineSimilarity\n",
    "from sklearn.metrics import f1_score\n",
    "from rdkit.DataStructs import TanimotoSimilarity"
   ]
  },
  {
   "cell_type": "markdown",
   "metadata": {},
   "source": [
    "# Read the parquet file and get rough statistics"
   ]
  },
  {
   "cell_type": "code",
   "execution_count": 2,
   "metadata": {},
   "outputs": [],
   "source": [
    "df = pd.read_pickle('../data/enveda_chemist_preprocessed.pkl')"
   ]
  },
  {
   "cell_type": "code",
   "execution_count": 17,
   "metadata": {},
   "outputs": [],
   "source": [
    "# remove rows where unable_to_assess is 1\n",
    "df = df[df['unable_to_assess'] == 0]"
   ]
  },
  {
   "cell_type": "code",
   "execution_count": 33,
   "metadata": {},
   "outputs": [
    {
     "name": "stdout",
     "output_type": "stream",
     "text": [
      "0.0\n"
     ]
    }
   ],
   "source": [
    "print(CosineSimilarity(df[\"ground_truth_embeddings\"].iloc[1][0], df[\"ground_truth_embeddings\"].iloc[5][0]))"
   ]
  },
  {
   "cell_type": "code",
   "execution_count": 34,
   "metadata": {},
   "outputs": [],
   "source": [
    "# calculate cosine similarity between ground truth and predicted fingerprints\n",
    "similarity = df.apply(lambda x: CosineSimilarity(x['ground_truth_embeddings'][0], x['predicted_embeddings'][0]), axis=1)\n",
    "#similarity = df.apply(lambda x: TanimotoSimilarity(x['ground_truth_fp'], x['predicted_fp']), axis=1)"
   ]
  },
  {
   "cell_type": "code",
   "execution_count": 35,
   "metadata": {},
   "outputs": [
    {
     "data": {
      "image/png": "[encoded data removed]",
      "text/plain": [
       "<Figure size 640x480 with 1 Axes>"
      ]
     },
     "metadata": {},
     "output_type": "display_data"
    },
    {
     "name": "stdout",
     "output_type": "stream",
     "text": [
      "0.0 0.0\n"
     ]
    }
   ],
   "source": [
    "#plot distribution of similarity\n",
    "import matplotlib.pyplot as plt\n",
    "plt.hist(similarity, bins=10)\n",
    "plt.show()\n",
    "print(min(similarity), max(similarity))"
   ]
  },
  {
   "cell_type": "code",
   "execution_count": 10,
   "metadata": {},
   "outputs": [],
   "source": [
    "# add 4 columns to the dataframe to store the 4 quartiles (not_close_match, close_match, near_exact_match, exact_match)\n",
    "df['predicted_not_close_match'] = (similarity < 0.25).astype(int)\n",
    "df['predicted_close_match'] = ((similarity >= 0.25) & (similarity < 0.5)).astype(int)\n",
    "df['predicted_near_exact_match'] = ((similarity >= 0.5) & (similarity < 0.75)).astype(int)\n",
    "df['predicted_exact_match'] = (similarity >= 0.75).astype(int)\n",
    "# save the 4 quartiles as a single column with the values: 1 for not_close_match, 2 for close_match, 3 for near_exact_match, 4 for exact_match\n",
    "df['predicted_match'] = df['predicted_not_close_match'] + 2*df['predicted_close_match'] + 3*df['predicted_near_exact_match'] + 4*df['predicted_exact_match']\n",
    "\n",
    "df[\"not_close_match\"] = df[\"not_close_match\"].astype(int)\n",
    "df[\"close_match\"] = df[\"close_match\"].astype(int)\n",
    "df[\"near_exact_match\"] = df[\"near_exact_match\"].astype(int)\n",
    "df[\"exact_match\"] = df[\"exact_match\"].astype(int)\n",
    "\n",
    "df[\"ground_truth_match\"] = df['not_close_match'] + 2*df['close_match'] + 3*df['near_exact_match'] + 4*df['exact_match']"
   ]
  },
  {
   "cell_type": "code",
   "execution_count": 11,
   "metadata": {},
   "outputs": [
    {
     "name": "stdout",
     "output_type": "stream",
     "text": [
      "Weighted F1 score: 0.18040675790026553\n"
     ]
    }
   ],
   "source": [
    "# calculate weighted f1 score\n",
    "f1 = f1_score(df['ground_truth_match'], df['predicted_match'], average='weighted')\n",
    "print(f'Weighted F1 score: {f1}')"
   ]
  }
 ],
 "metadata": {
  "kernelspec": {
   "display_name": "bioxml",
   "language": "python",
   "name": "python3"
  },
  "language_info": {
   "codemirror_mode": {
    "name": "ipython",
    "version": 3
   },
   "file_extension": ".py",
   "mimetype": "text/x-python",
   "name": "python",
   "nbconvert_exporter": "python",
   "pygments_lexer": "ipython3",
   "version": "3.10.15"
  }
 },
 "nbformat": 4,
 "nbformat_minor": 2
}
